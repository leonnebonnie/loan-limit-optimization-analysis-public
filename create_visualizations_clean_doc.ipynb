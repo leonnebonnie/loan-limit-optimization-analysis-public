{
 "cells": [
  {
   "cell_type": "markdown",
   "id": "7927c498",
   "metadata": {},
   "source": [
    "# Create Visualizations — Documented Notebook\n",
    "This notebook converts `create_visualizations_clean.py` into a documented, cell-based workflow.\n",
    "It loads the CSV outputs from the analysis pipeline (`loan_optimization_results.csv`, `recommended_increases.csv`, `simulation_results.csv`) and produces four publication-ready figures saved as PNG files in the project folder.\n",
    "Use this notebook to iterate on plots interactively or run headless to regenerate figure files."
   ]
  },
  {
   "cell_type": "markdown",
   "id": "15743a31",
   "metadata": {},
   "source": [
    "## Setup: imports and plotting style\n",
    "We import pandas, matplotlib and seaborn and set a consistent style for the figures."
   ]
  },
  {
   "cell_type": "code",
   "execution_count": null,
   "id": "24852bd7",
   "metadata": {},
   "outputs": [],
   "source": [
    "import os\n",
    "from typing import Tuple\n",
    "import matplotlib.pyplot as plt\n",
    "import pandas as pd\n",
    "import seaborn as sns\n",
    "\n",
    "sns.set_style('whitegrid')\n",
    "# Working directory for reading/writing relative to this notebook file\n",
    "WORKDIR = os.path.abspath(os.path.dirname(__file__)) if '__file__' in globals() else os.getcwd()\n",
    "\n",
    "print('Workdir:', WORKDIR)"
   ]
  },
  {
   "cell_type": "markdown",
   "id": "5569c277",
   "metadata": {},
   "source": [
    "## Load results\n",
    "A small utility to load the three CSV outputs produced by the analysis pipeline. The function returns (df, recommendations, simulations)."
   ]
  },
  {
   "cell_type": "code",
   "execution_count": null,
   "id": "a5157f6c",
   "metadata": {},
   "outputs": [],
   "source": [
    "def load_results(workdir: str = WORKDIR) -> Tuple[pd.DataFrame, pd.DataFrame, pd.DataFrame]:\n",
    "    \"\"\"Read the CSV outputs from the analysis pipeline.\n",
    "    Returns a tuple: (loan dataset, recommendations, simulations).\n",
    "    \"\"\"\n",
    "    df = pd.read_csv(os.path.join(workdir, 'loan_optimization_results.csv'))\n",
    "    recommendations = pd.read_csv(os.path.join(workdir, 'recommended_increases.csv'))\n",
    "    simulations = pd.read_csv(os.path.join(workdir, 'simulation_results.csv'))\n",
    "    return df, recommendations, simulations"
   ]
  },
  {
   "cell_type": "markdown",
   "id": "e19d6fb4",
   "metadata": {},
   "source": [
    "## Figure 1 — Dataset overview\n",
    "Multiple small plots showing distributions and relationships in the base dataset. This helps validate data shape and key signals (payments, loan size, risk buckets)."
   ]
  },
  {
   "cell_type": "code",
   "execution_count": null,
   "id": "e6912a47",
   "metadata": {},
   "outputs": [],
   "source": [
    "def fig1_dataset_overview(df: pd.DataFrame, outpath: str):\n",
    "    # Create a grid of simple exploratory plots\n",
    "    fig, axes = plt.subplots(3, 3, figsize=(16, 10))\n",
    "    # Distribution of on-time payment percentages\n",
    "    df['On-time Payments (%)'].hist(bins=50, ax=axes[0, 0])\n",
    "    axes[0,0].set_title('On-time Payments (%)')\n",
    "    # Distribution of initial loan amounts\n",
    "    df['Initial Loan ($)'].hist(bins=50, ax=axes[0, 1])\n",
    "    axes[0,1].set_title('Initial Loan ($)')\n",
    "    # Days since last loan distribution\n",
    "    df['Days Since Last Loan'].hist(bins=50, ax=axes[0, 2])\n",
    "    axes[0,2].set_title('Days Since Last Loan')\n",
    "    # Risk category counts\n",
    "    df['Risk_Category'].value_counts().plot(kind='bar', ax=axes[1, 0])\n",
    "    axes[1,0].set_title('Risk Category Counts')\n",
    "    # Historical increases counts\n",
    "    df['No. of Increases in 2023'].value_counts().sort_index().plot(kind='bar', ax=axes[1, 1])\n",
    "    axes[1,1].set_title('No. of Increases in 2023')\n",
    "    # Total profit contribution distribution (if available)\n",
    "    if 'Total Profit Contribution ($)' in df.columns:\n",
    "        df['Total Profit Contribution ($)'].hist(bins=30, ax=axes[1, 2])\n",
    "    axes[1,2].set_title('Total Profit Contribution ($)')\n",
    "    # Scatter matrix for selected numeric features (small sample to keep plotting light)\n",
    "    sample = df[['Initial Loan ($)', 'Days Since Last Loan', 'On-time Payments (%)']].sample(n=min(300, len(df)))\n",
    "    pd.plotting.scatter_matrix(sample, ax=axes[2, 0], diagonal='kde')\n",
    "    axes[2,0].set_title('Scatter matrix (sample)')\n",
    "    # Uptake probability by risk bucket (bar chart)\n",
    "    if 'Uptake_Probability' in df.columns:\n",
    "        sns.barplot(x=df.groupby('Risk_Category')['Uptake_Probability'].mean().index, y=df.groupby('Risk_Category')['Uptake_Probability'].mean().values, ax=axes[2, 2])\n",
    "        axes[2,2].set_title('Mean Uptake Probability by Risk')\n",
    "    plt.suptitle('Dataset Overview')\n",
    "    fig.savefig(outpath, bbox_inches='tight')\n",
    "    plt.close(fig)"
   ]
  },
  {
   "cell_type": "markdown",
   "id": "5d956c45",
   "metadata": {},
   "source": [
    "## Figure 2 — Model performance and risk analysis\n",
    "Visualizations focusing on model outputs (default probabilities, expected value) and approvals breakdown."
   ]
  },
  {
   "cell_type": "code",
   "execution_count": null,
   "id": "74d7c015",
   "metadata": {},
   "outputs": [],
   "source": [
    "def fig2_model_performance(df: pd.DataFrame, recommendations: pd.DataFrame, outpath: str):\n",
    "    fig, axes = plt.subplots(2, 3, figsize=(16, 10))\n",
    "    # Average default probability by risk bucket\n",
    "    df.groupby('Risk_Category')['Default_Probability'].mean().plot(kind='bar', ax=axes[0, 0])\n",
    "    axes[0,0].set_title('Mean Default Probability by Risk')\n",
    "    # Distribution of positive expected values\n",
    "    df[df['Expected_Value'] > 0]['Expected_Value'].hist(bins=50, ax=axes[0, 1])\n",
    "    axes[0,1].set_title('Positive Expected Value Distribution')\n",
    "    # Scatter of default probability vs expected value (sampled)\n",
    "    df.sample(n=min(2000, len(df))).plot.scatter(x='Default_Probability', y='Expected_Value', ax=axes[0, 2])\n",
    "    axes[0,2].set_title('Default Probability vs Expected Value (sample)')\n",
    "    # Average customer NPV by risk bucket (if present)\n",
    "    if 'Customer_NPV' in df.columns:\n",
    "        df.groupby('Risk_Category')['Customer_NPV'].mean().plot(kind='bar', ax=axes[1, 0])\n",
    "        axes[1,0].set_title('Mean Customer NPV by Risk')\n",
    "    # Credit score proxy trend by risk (line plot may be noisy but informative)\n",
    "    if 'Credit_Score_Proxy' in df.columns:\n",
    "        df.groupby('Risk_Category')['Credit_Score_Proxy'].mean().plot(kind='line', ax=axes[1, 1])\n",
    "        axes[1,1].set_title('Credit Score Proxy by Risk')\n",
    "    # Approvals summary: eligible vs approved vs high-risk approved\n",
    "    axes[1, 2].bar(['Total Eligible', 'Approved for Increase', 'High Risk Approved'], [df['Eligible'].sum(), len(recommendations), len(recommendations[recommendations['Risk_Category']=='Sub-Prime'])])\n",
    "    axes[1,2].set_title('Approval Summary')\n",
    "    plt.suptitle('Model Performance and Risk Analysis')\n",
    "    fig.savefig(outpath, bbox_inches='tight')\n",
    "    plt.close(fig)"
   ]
  },
  {
   "cell_type": "markdown",
   "id": "2b4ff736",
   "metadata": {},
   "source": [
    "## Figure 3 — Monte Carlo simulation results\n",
    "Summaries of the simulation outputs: net value distributions, defaults, and profit/loss balances by risk bucket."
   ]
  },
  {
   "cell_type": "code",
   "execution_count": null,
   "id": "0d61a110",
   "metadata": {},
   "outputs": [],
   "source": [
    "def fig3_simulation_results(simulations: pd.DataFrame, outpath: str):\n",
    "    fig, axes = plt.subplots(2, 3, figsize=(16, 10))\n",
    "    # Histogram of net values by risk category (overlaying first three categories found)\n",
    "    cats = simulations['risk_category'].unique()[:3]\n",
    "    for i, cat in enumerate(cats):\n",
    "        simulations[simulations['risk_category']==cat]['net_value'].hist(bins=50, ax=axes[0, 0], alpha=0.6, label=str(cat))\n",
    "    axes[0,0].legend()\n",
    "    axes[0,0].set_title('Net Value Distribution by Risk Category')\n",
    "    # Defaults rate by risk category\n",
    "    simulations.groupby('risk_category')['defaults'].mean().plot(kind='bar', ax=axes[0, 2])\n",
    "    axes[0,2].set_title('Mean Defaults by Risk Category')\n",
    "    # Profit vs losses scatter at customer level (averaged across sims)\n",
    "    customer_summary = simulations.groupby('customer_id')[['total_profit','total_losses']].mean()\n",
    "    customer_summary.plot(kind='scatter', x='total_profit', y='total_losses', ax=axes[1, 0])\n",
    "    axes[1,0].set_title('Avg Profit vs Losses (customer level)')\n",
    "    # Average increases granted by risk category\n",
    "    simulations.groupby('risk_category')['increases_granted'].mean().plot(kind='bar', ax=axes[1, 1])\n",
    "    axes[1,1].set_title('Avg Increases Granted by Risk')\n",
    "    # Summary statistics per risk bucket (mean, median, std) for net value\n",
    "    sims_desc = simulations.groupby('risk_category')['net_value'].describe()[['mean','50%','std']]\n",
    "    sims_desc.plot(kind='bar', ax=axes[1, 2])\n",
    "    axes[1,2].set_title('Net Value Summary by Risk')\n",
    "    plt.suptitle('Monte Carlo Simulation Results')\n",
    "    fig.savefig(outpath, bbox_inches='tight')\n",
    "    plt.close(fig)"
   ]
  },
  {
   "cell_type": "markdown",
   "id": "1df9b46b",
   "metadata": {},
   "source": [
    "## Figure 4 — Optimization strategy results\n",
    "Plots summarizing the distribution of recommended increases, their expected value, and characteristics of approved customers."
   ]
  },
  {
   "cell_type": "code",
   "execution_count": null,
   "id": "3be81785",
   "metadata": {},
   "outputs": [],
   "source": [
    "def fig4_optimization_strategy(recommendations: pd.DataFrame, outpath: str):\n",
    "    fig, axes = plt.subplots(2, 3, figsize=(16, 8))\n",
    "    # How many customers received 0,1,2,.. recommended increases\n",
    "    recommendations['Recommended_Increases'].value_counts().sort_index().plot(kind='bar', ax=axes[0, 0])\n",
    "    axes[0,0].set_title('Recommended Increases Counts')\n",
    "    # Average total expected value by number of recommended increases\n",
    "    recommendations.groupby('Recommended_Increases')['Total_Expected_Value'].mean().plot(ax=axes[0, 1])\n",
    "    axes[0,1].set_title('Mean Total Expected Value by #Increases')\n",
    "    # Risk breakdown of recommended approvals\n",
    "    recommendations['Risk_Category'].value_counts().plot(kind='pie', ax=axes[0, 2])\n",
    "    axes[0,2].set_title('Risk Category Share (approved)')\n",
    "    # Distribution of on-time payments for approved customers\n",
    "    recommendations['On-time Payments (%)'].hist(bins=30, ax=axes[1, 0])\n",
    "    axes[1,0].set_title('On-time Payments (%) — Approved')\n",
    "    # Distribution of loan sizes for approved customers\n",
    "    recommendations['Initial Loan ($)'].hist(bins=30, ax=axes[1, 1])\n",
    "    axes[1,1].set_title('Initial Loan ($) — Approved')\n",
    "    # Default probability distribution for approved customers\n",
    "    recommendations['Default_Probability'].hist(bins=30, ax=axes[1, 2])\n",
    "    axes[1,2].set_title('Default Probability — Approved')\n",
    "    plt.suptitle('Optimization Strategy Results')\n",
    "    fig.savefig(outpath, bbox_inches='tight')\n",
    "    plt.close(fig)"
   ]
  },
  {
   "cell_type": "markdown",
   "id": "ba7bfb0f",
   "metadata": {},
   "source": [
    "## Run and save figures\n",
    "This cell loads results and runs the four figure functions. Adjust the output names if you want to version figures."
   ]
  },
  {
   "cell_type": "code",
   "execution_count": null,
   "id": "29f4de11",
   "metadata": {},
   "outputs": [],
   "source": [
    "# Load data and run plotting functions\n",
    "df, recommendations, simulations = load_results()\n",
    "out1 = os.path.join(WORKDIR, 'fig1_dataset_overview.png')\n",
    "out2 = os.path.join(WORKDIR, 'fig2_model_performance.png')\n",
    "out3 = os.path.join(WORKDIR, 'fig3_monte_carlo.png')\n",
    "out4 = os.path.join(WORKDIR, 'fig4_optimization_strategy.png')\n",
    "fig1_dataset_overview(df, out1)\n",
    "fig2_model_performance(df, recommendations, out2)\n",
    "fig3_simulation_results(simulations, out3)\n",
    "fig4_optimization_strategy(recommendations, out4)\n",
    "print('Saved figures:', out1, out2, out3, out4)"
   ]
  },
  {
   "cell_type": "markdown",
   "id": "2a40f6f9",
   "metadata": {},
   "source": [
    "---\n",
    "Tips:\n",
    "- If any plot errors arise because a column is missing, check that the analysis pipeline successfully created `loan_optimization_results.csv`, `recommended_increases.csv`, and `simulation_results.csv`.\n",
    "- To preview plots inline in the notebook, run the cells interactively in Jupyter or VS Code.\n",
    "- To regenerate figures headlessly, use `jupyter nbconvert --to notebook --execute` as shown in the analysis notebook."
   ]
  }
 ],
 "metadata": {
  "language_info": {
   "name": "python"
  }
 },
 "nbformat": 4,
 "nbformat_minor": 5
}
